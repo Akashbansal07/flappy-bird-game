{
  "nbformat": 4,
  "nbformat_minor": 0,
  "metadata": {
    "colab": {
      "provenance": [],
      "authorship_tag": "ABX9TyMokZ3T04tOT+9QA37FHtj0",
      "include_colab_link": true
    },
    "kernelspec": {
      "name": "python3",
      "display_name": "Python 3"
    },
    "language_info": {
      "name": "python"
    }
  },
  "cells": [
    {
      "cell_type": "markdown",
      "metadata": {
        "id": "view-in-github",
        "colab_type": "text"
      },
      "source": [
        "<a href=\"https://colab.research.google.com/github/Akashbansal07/flappy-bird-game/blob/main/numpy1.ipynb\" target=\"_parent\"><img src=\"https://colab.research.google.com/assets/colab-badge.svg\" alt=\"Open In Colab\"/></a>"
      ]
    },
    {
      "cell_type": "code",
      "execution_count": 1,
      "metadata": {
        "colab": {
          "base_uri": "https://localhost:8080/"
        },
        "id": "_9iAsmI_ZFUC",
        "outputId": "4ea750b6-4f62-4d1e-8233-9e1a7bcc7635"
      },
      "outputs": [
        {
          "output_type": "stream",
          "name": "stdout",
          "text": [
            "Requirement already satisfied: numpy in /usr/local/lib/python3.10/dist-packages (1.23.5)\n"
          ]
        }
      ],
      "source": [
        "pip install numpy\n"
      ]
    },
    {
      "cell_type": "code",
      "source": [
        "import numpy as np\n",
        "arr=np.array([1,2,3,4,5])\n",
        "print (arr)\n",
        "print (type(arr))"
      ],
      "metadata": {
        "colab": {
          "base_uri": "https://localhost:8080/"
        },
        "id": "4hYFRlr2ZTTg",
        "outputId": "8f9596ac-9de0-4248-82b6-33f4adfe3a68"
      },
      "execution_count": 4,
      "outputs": [
        {
          "output_type": "stream",
          "name": "stdout",
          "text": [
            "[1 2 3 4 5]\n",
            "<class 'numpy.ndarray'>\n"
          ]
        }
      ]
    },
    {
      "cell_type": "markdown",
      "source": [],
      "metadata": {
        "id": "2UyzYs6NbTq6"
      }
    },
    {
      "cell_type": "code",
      "source": [
        "print(np.__version__)"
      ],
      "metadata": {
        "colab": {
          "base_uri": "https://localhost:8080/"
        },
        "id": "TF2wYiWsZTgG",
        "outputId": "54ec5146-17d9-4fb0-a16e-022305e95cc4"
      },
      "execution_count": 5,
      "outputs": [
        {
          "output_type": "stream",
          "name": "stdout",
          "text": [
            "1.23.5\n"
          ]
        }
      ]
    },
    {
      "cell_type": "code",
      "source": [
        "import numpy as np\n",
        "x=np.array(56)\n",
        "y=np.array([1,2,3,4])\n",
        "z=np.array([[1,2,3],[4,5,6]])\n",
        "w=np.array([[[1,2,3],[4,5,6]],[[4,5,6],[8,9,0]]])\n",
        "print(x.ndim)\n",
        "print(y.ndim)\n",
        "print(z.ndim)\n",
        "print(w.ndim)"
      ],
      "metadata": {
        "colab": {
          "base_uri": "https://localhost:8080/"
        },
        "id": "xITXS2VvZTkG",
        "outputId": "71af2bf3-6968-4ef9-9951-a25eba0e3819"
      },
      "execution_count": 8,
      "outputs": [
        {
          "output_type": "stream",
          "name": "stdout",
          "text": [
            "0\n",
            "1\n",
            "2\n",
            "3\n"
          ]
        }
      ]
    },
    {
      "cell_type": "code",
      "source": [
        "import numpy as np\n",
        "arr=np.array([1,2,3,4,5,6,7,8], ndmin=5)\n",
        "print(arr)\n",
        "print('number of dimensions :',arr.ndim)"
      ],
      "metadata": {
        "colab": {
          "base_uri": "https://localhost:8080/"
        },
        "id": "_ye3ptc1ZTnc",
        "outputId": "e55aa46a-9632-4dd5-89c9-f92f2e82e1ea"
      },
      "execution_count": 14,
      "outputs": [
        {
          "output_type": "stream",
          "name": "stdout",
          "text": [
            "[[[[[1 2 3 4 5 6 7 8]]]]]\n",
            "number of dimensions : 5\n"
          ]
        }
      ]
    },
    {
      "cell_type": "code",
      "source": [
        "import numpy as np\n",
        "arr=np.array([1,2,3,4,5,6])\n",
        "print(arr[3],arr[0])\n"
      ],
      "metadata": {
        "colab": {
          "base_uri": "https://localhost:8080/"
        },
        "id": "XLtgcFizZTqu",
        "outputId": "a5ac9478-a61e-45aa-85e2-f58a7db04f30"
      },
      "execution_count": 16,
      "outputs": [
        {
          "output_type": "stream",
          "name": "stdout",
          "text": [
            "4 1\n"
          ]
        }
      ]
    },
    {
      "cell_type": "code",
      "source": [
        "import numpy as np\n",
        "arr=np.array([[1,2,3,4,5,8,9],[1,3,4,5,6,7,8]])\n",
        "print(arr[1,3])"
      ],
      "metadata": {
        "colab": {
          "base_uri": "https://localhost:8080/"
        },
        "id": "qs5NewwLrfNi",
        "outputId": "12b46808-d467-4e67-f519-2e7f42d273ef"
      },
      "execution_count": 19,
      "outputs": [
        {
          "output_type": "stream",
          "name": "stdout",
          "text": [
            "5\n"
          ]
        }
      ]
    },
    {
      "cell_type": "code",
      "source": [
        "import numpy as np\n",
        "arr=np.array([[[1,2,3],[3,4,5],[7,4,6],[34,6,34]],[[1,2,3],[6,3,5],[9,5,3],[54,43,87]]])\n",
        "print(arr[1,3,0])\n",
        "print(arr[0,-1])"
      ],
      "metadata": {
        "id": "ntTJKEJkr9lS"
      },
      "execution_count": null,
      "outputs": []
    },
    {
      "cell_type": "code",
      "source": [],
      "metadata": {
        "id": "8npBdahmsy3F"
      },
      "execution_count": null,
      "outputs": []
    },
    {
      "cell_type": "markdown",
      "source": [
        "array slicing\n"
      ],
      "metadata": {
        "id": "tIhKduDkAPiO"
      }
    },
    {
      "cell_type": "code",
      "source": [
        "[start:end]\n",
        "[start:end:step]"
      ],
      "metadata": {
        "colab": {
          "base_uri": "https://localhost:8080/",
          "height": 140
        },
        "id": "l1l7vRAuASBN",
        "outputId": "76f4a4aa-ae9b-40e0-a4fa-0d9dc160494b"
      },
      "execution_count": 1,
      "outputs": [
        {
          "output_type": "error",
          "ename": "SyntaxError",
          "evalue": "invalid syntax (<ipython-input-1-47006d629f60>, line 1)",
          "traceback": [
            "\u001b[0;36m  File \u001b[0;32m\"<ipython-input-1-47006d629f60>\"\u001b[0;36m, line \u001b[0;32m1\u001b[0m\n\u001b[0;31m    [start:end]\u001b[0m\n\u001b[0m          ^\u001b[0m\n\u001b[0;31mSyntaxError\u001b[0m\u001b[0;31m:\u001b[0m invalid syntax\n"
          ]
        }
      ]
    },
    {
      "cell_type": "code",
      "source": [
        "import numpy as np\n",
        "arr=np.array([1,2,3,4,5,6,7,8,9])\n",
        "print(arr[2:7])\n",
        "print(arr[1:])\n",
        "print(arr[:7])\n",
        "print(arr[-6:])\n",
        "print(arr[0::2])\n",
        "print(arr[0::1])\n",
        "print(arr[0::4])"
      ],
      "metadata": {
        "colab": {
          "base_uri": "https://localhost:8080/"
        },
        "id": "j977QqqQAdRk",
        "outputId": "5eb6386c-1779-419d-8e64-296e7e643e93"
      },
      "execution_count": 13,
      "outputs": [
        {
          "output_type": "stream",
          "name": "stdout",
          "text": [
            "[3 4 5 6 7]\n",
            "[2 3 4 5 6 7 8 9]\n",
            "[1 2 3 4 5 6 7]\n",
            "[4 5 6 7 8 9]\n",
            "[1 3 5 7 9]\n",
            "[1 2 3 4 5 6 7 8 9]\n",
            "[1 5 9]\n"
          ]
        }
      ]
    },
    {
      "cell_type": "code",
      "source": [
        "import numpy as np\n",
        "arr=np.array([[1,2,3,4,5,6],[3,4,5,6,7,8],[2,3,4,56,7,7]])\n",
        "print(arr[:,3])\n",
        "print(arr[:,:])\n",
        "print(arr[0:3,:])\n",
        "print(arr.shape)"
      ],
      "metadata": {
        "colab": {
          "base_uri": "https://localhost:8080/"
        },
        "id": "Ezi-X2jXAr8g",
        "outputId": "c7d082d6-ff2b-44d8-e3a4-95d0014c58ff"
      },
      "execution_count": 20,
      "outputs": [
        {
          "output_type": "stream",
          "name": "stdout",
          "text": [
            "[ 4  6 56]\n",
            "[[ 1  2  3  4  5  6]\n",
            " [ 3  4  5  6  7  8]\n",
            " [ 2  3  4 56  7  7]]\n",
            "[[ 1  2  3  4  5  6]\n",
            " [ 3  4  5  6  7  8]\n",
            " [ 2  3  4 56  7  7]]\n",
            "(3, 6)\n"
          ]
        }
      ]
    },
    {
      "cell_type": "code",
      "source": [],
      "metadata": {
        "id": "zzUTHsf5Cs_l"
      },
      "execution_count": null,
      "outputs": []
    },
    {
      "cell_type": "markdown",
      "source": [
        "copy vs view"
      ],
      "metadata": {
        "id": "6t_TtKfoDFwJ"
      }
    },
    {
      "cell_type": "code",
      "source": [
        "import numpy as np\n",
        "arr=np.array([1,2,3,4,5,6,7,8])\n",
        "x=arr.copy()\n",
        "y=arr.view()\n",
        "arr[0]=34\n",
        "print(arr)\n",
        "print(x)\n",
        "print(y)"
      ],
      "metadata": {
        "colab": {
          "base_uri": "https://localhost:8080/"
        },
        "id": "AXGB6dK7DH6f",
        "outputId": "02c1d4fe-493d-4c6d-8885-3324f883be3b"
      },
      "execution_count": 19,
      "outputs": [
        {
          "output_type": "stream",
          "name": "stdout",
          "text": [
            "[34  2  3  4  5  6  7  8]\n",
            "[1 2 3 4 5 6 7 8]\n",
            "[34  2  3  4  5  6  7  8]\n"
          ]
        }
      ]
    },
    {
      "cell_type": "code",
      "source": [
        "import numpy as np\n",
        "arr=np.array([1,2,3,4,5,6,7,8,9,10,11,12,13,14,15,16])\n",
        "newarr=arr.reshape(2,2,4)\n",
        "print(arr)\n",
        "print(newarr)"
      ],
      "metadata": {
        "colab": {
          "base_uri": "https://localhost:8080/"
        },
        "id": "-WrkxHRVDqiN",
        "outputId": "e08a18f9-2f95-4a1e-9ced-1de267d5846a"
      },
      "execution_count": 24,
      "outputs": [
        {
          "output_type": "stream",
          "name": "stdout",
          "text": [
            "[ 1  2  3  4  5  6  7  8  9 10 11 12 13 14 15 16]\n",
            "[[[ 1  2  3  4]\n",
            "  [ 5  6  7  8]]\n",
            "\n",
            " [[ 9 10 11 12]\n",
            "  [13 14 15 16]]]\n"
          ]
        }
      ]
    },
    {
      "cell_type": "code",
      "source": [],
      "metadata": {
        "id": "PMuqCw_IEaPz"
      },
      "execution_count": null,
      "outputs": []
    },
    {
      "cell_type": "markdown",
      "source": [
        "Array iteration\n"
      ],
      "metadata": {
        "id": "SnSe8Tr9E0Nn"
      }
    },
    {
      "cell_type": "code",
      "source": [
        "import numpy as np\n",
        "arr=np.array([[[1,2,3],[4,5,6],[7,8,9]],[[2,3,4],[5,6,7],[4,8,6]]])\n",
        "for x in arr:\n",
        "  print(x)\n",
        "for p in arr:\n",
        "  for y in p:\n",
        "    for z in y:\n",
        "      print(z)\n",
        "\n",
        "print('---')\n",
        "for x in np.nditer(arr):\n",
        "  print(x)\n"
      ],
      "metadata": {
        "colab": {
          "base_uri": "https://localhost:8080/"
        },
        "id": "wCmhM0OxE1wS",
        "outputId": "42ae91cc-d8b6-45df-d7f5-cb6d24a62269"
      },
      "execution_count": 36,
      "outputs": [
        {
          "output_type": "stream",
          "name": "stdout",
          "text": [
            "[[1 2 3]\n",
            " [4 5 6]\n",
            " [7 8 9]]\n",
            "[[2 3 4]\n",
            " [5 6 7]\n",
            " [4 8 6]]\n",
            "1\n",
            "2\n",
            "3\n",
            "4\n",
            "5\n",
            "6\n",
            "7\n",
            "8\n",
            "9\n",
            "2\n",
            "3\n",
            "4\n",
            "5\n",
            "6\n",
            "7\n",
            "4\n",
            "8\n",
            "6\n",
            "---\n",
            "1\n",
            "2\n",
            "3\n",
            "4\n",
            "5\n",
            "6\n",
            "7\n",
            "8\n",
            "9\n",
            "2\n",
            "3\n",
            "4\n",
            "5\n",
            "6\n",
            "7\n",
            "4\n",
            "8\n",
            "6\n"
          ]
        }
      ]
    },
    {
      "cell_type": "code",
      "source": [
        "for x in np.nditer(arr,flags=['buffered'],op_dtypes=['S']):\n",
        "  print(x)"
      ],
      "metadata": {
        "colab": {
          "base_uri": "https://localhost:8080/"
        },
        "id": "G1Y0ed50GGDm",
        "outputId": "2e0cbbdc-8a92-477d-cb0e-f42f20270314"
      },
      "execution_count": 39,
      "outputs": [
        {
          "output_type": "stream",
          "name": "stdout",
          "text": [
            "b'1'\n",
            "b'2'\n",
            "b'3'\n",
            "b'4'\n",
            "b'5'\n",
            "b'6'\n",
            "b'7'\n",
            "b'8'\n",
            "b'9'\n",
            "b'2'\n",
            "b'3'\n",
            "b'4'\n",
            "b'5'\n",
            "b'6'\n",
            "b'7'\n",
            "b'4'\n",
            "b'8'\n",
            "b'6'\n"
          ]
        }
      ]
    },
    {
      "cell_type": "code",
      "source": [],
      "metadata": {
        "id": "2tO1rrlsHvTJ"
      },
      "execution_count": null,
      "outputs": []
    }
  ]
}